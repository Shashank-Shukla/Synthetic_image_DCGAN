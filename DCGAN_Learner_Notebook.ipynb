{
 "cells": [
  {
   "cell_type": "markdown",
   "metadata": {
    "colab_type": "text",
    "id": "cnX0atWNppA3"
   },
   "source": [
    "<h2 align=center>Generate Synthetic Images with DCGANs in Keras</h2>"
   ]
  },
  {
   "cell_type": "markdown",
   "metadata": {
    "colab_type": "text",
    "id": "AY-qM-4swLUb"
   },
   "source": [
    "## Task 1: Project Overview and Import Libraries"
   ]
  },
  {
   "cell_type": "code",
   "execution_count": null,
   "metadata": {
    "colab": {
     "base_uri": "https://localhost:8080/",
     "height": 34
    },
    "colab_type": "code",
    "id": "bhqrEV6hkFC3",
    "outputId": "6b3ac373-d05e-4996-f6b6-6df0268081c7"
   },
   "outputs": [],
   "source": [
    "%matplotlib inline\n",
    "import tensorflow as tf\n",
    "from tensorflow import keras\n",
    "import numpy as np\n",
    "import plot_utils\n",
    "import matplotlib.pyplot as plt\n",
    "from tqdm import tqdm\n",
    "from IPython import display\n",
    "print('Tensorflow version:', tf.__version__)"
   ]
  },
  {
   "cell_type": "markdown",
   "metadata": {
    "colab_type": "text",
    "id": "bRT9FVAdwUDP"
   },
   "source": [
    "## Task 2: Load and Preprocess the Data"
   ]
  },
  {
   "cell_type": "code",
   "execution_count": null,
   "metadata": {
    "colab": {},
    "colab_type": "code",
    "id": "9g2aKYa9kG1Q"
   },
   "outputs": [],
   "source": [
    "(xtrain, ytrain), (xtest, ytest) = tf.keras.datasets.fashion_mnist.load_data()\n",
    "# Normalize the pixel values\n",
    "xtrain = xtrain.astype(np.float32)/255.0\n",
    "xtest = xtest.astype(np.float32)/255.0"
   ]
  },
  {
   "cell_type": "code",
   "execution_count": null,
   "metadata": {
    "colab": {
     "base_uri": "https://localhost:8080/",
     "height": 578
    },
    "colab_type": "code",
    "id": "UFEwYL2HJ5no",
    "outputId": "33287f7b-67bb-41f8-f5fd-9269d814d150",
    "scrolled": true
   },
   "outputs": [],
   "source": [
    "plt.figure(figsize=(10,10))\n",
    "for i in range(25):\n",
    "    plt.subplot(5, 5,i+1)\n",
    "    plt.xticks([])\n",
    "    plt.yticks([])\n",
    "    plt.grid(False)\n",
    "    plt.imshow(xtrain[i], cmap=plt.cm.binary)\n",
    "#plt.tight_layout()\n",
    "plt.show()"
   ]
  },
  {
   "cell_type": "markdown",
   "metadata": {
    "colab_type": "text",
    "id": "_B6mV5YZw_p7"
   },
   "source": [
    "## Task 3: Create Batches of Training Data"
   ]
  },
  {
   "cell_type": "code",
   "execution_count": null,
   "metadata": {
    "colab": {},
    "colab_type": "code",
    "id": "oqwFFyrFkG7b"
   },
   "outputs": [],
   "source": [
    "print(f\"Training size: {xtrain.shape[0]} with {ytrain.shape[0]} labels\")\n",
    "print(f\"Test size: {xtest.shape[0]} | image size: {xtrain.shape[1]}x{xtrain.shape[2]} px\")\n",
    "bs = 200\n",
    "epochs = 20\n",
    "no_feat = 100\n",
    "dataset = tf.data.Dataset.from_tensor_slices(xtrain).shuffle(1000)\n",
    "dataset = dataset.batch(bs, drop_remainder=True).prefetch(1)"
   ]
  },
  {
   "cell_type": "markdown",
   "metadata": {
    "colab_type": "text",
    "id": "w5qOeWQDxp7A"
   },
   "source": [
    "## Task 4: Build the Generator Network for DCGAN"
   ]
  },
  {
   "cell_type": "markdown",
   "metadata": {
    "colab_type": "text",
    "id": "e4qXzYgEs4RR"
   },
   "source": [
    "![GAN](DCGAN.png)"
   ]
  },
  {
   "cell_type": "markdown",
   "metadata": {},
   "source": [
    "**Generator** is an upsampling network with fractionally-strided convolutions\n",
    "\n",
    "**Discriminator** is a convolutional network"
   ]
  },
  {
   "cell_type": "markdown",
   "metadata": {},
   "source": [
    "Architecture guidelines for stable Deep Convolutional GANs:\n",
    "\n",
    "- Replace any pooling layers with strided convolutions (discriminator) and fractional-strided convolutions (generator).\n",
    "- Use batchnorm in both the generator and the discriminator.\n",
    "- Remove fully connected hidden layers for deeper architectures.\n",
    "- Use ReLU activation in generator for all layers expect for the output, which uses Tanh.\n",
    "- Use LeakyReLU activation in the discriminator for all layers.\n",
    "\n",
    "[Source](https://arxiv.org/pdf/1511.06434.pdf): Radford et al, \"*Unsupervised Representation Learning with Deep Convolutional Generative Adversarial Networks*\", ICLR 2016"
   ]
  },
  {
   "cell_type": "code",
   "execution_count": null,
   "metadata": {
    "colab": {},
    "colab_type": "code",
    "id": "E_Pz36D9T3dp"
   },
   "outputs": [],
   "source": [
    "generator = keras.models.Sequential([\n",
    "    keras.layers.Dense(7*7*512, input_shape=[no_feat]),\n",
    "    keras.layers.Reshape([7, 7, 512]),\n",
    "    keras.layers.BatchNormalization(),\n",
    "    keras.layers.Conv2DTranspose(256, (5,5), (2,2), padding='same', activation='selu'),\n",
    "    keras.layers.BatchNormalization(),\n",
    "    keras.layers.Conv2DTranspose(128, (5,5), (2,2), padding='same', activation='selu'),\n",
    "    keras.layers.BatchNormalization(),\n",
    "    keras.layers.Conv2DTranspose(64, (5,5), (2,2), padding='same', activation='selu'),\n",
    "    keras.layers.BatchNormalization(),\n",
    "    keras.layers.Conv2DTranspose(1, (5,5), (2,2), padding='same', activation='tanh')\n",
    "])\n"
   ]
  },
  {
   "cell_type": "code",
   "execution_count": null,
   "metadata": {
    "colab": {
     "base_uri": "https://localhost:8080/",
     "height": 85
    },
    "colab_type": "code",
    "id": "PMihRHcHT3hU",
    "outputId": "d16ceab2-d819-43ba-e359-3f895be61e61"
   },
   "outputs": [],
   "source": [
    "# Normally distributed noise...[image_at_a_time, no. of feats]\n",
    "noise = tf.random.normal(shape=[1, no_feat])\n",
    "gen_img = generator(noise, training=False)\n",
    "plot_utils.show(gen_img, 1)"
   ]
  },
  {
   "cell_type": "code",
   "execution_count": null,
   "metadata": {},
   "outputs": [],
   "source": [
    "#generator.summary()"
   ]
  },
  {
   "cell_type": "markdown",
   "metadata": {
    "colab_type": "text",
    "id": "rMUiBeXhVMWf"
   },
   "source": [
    "## Task 5: Build the Discriminator Network for DCGAN"
   ]
  },
  {
   "cell_type": "code",
   "execution_count": null,
   "metadata": {
    "colab": {},
    "colab_type": "code",
    "id": "LNoA-K62kHEI"
   },
   "outputs": [],
   "source": [
    "# Discriminator is basically CNN based classifier\n",
    "disc = keras.models.Sequential([\n",
    "    keras.layers.Conv2D(64, (5,5), (2,2), padding='same', input_shape=[28, 28, 1]),\n",
    "    keras.layers.LeakyReLU(0.2),\n",
    "    keras.layers.Dropout(0.3),\n",
    "    keras.layers.Conv2D(128, (5,5), (2,2), padding='same'),\n",
    "    keras.layers.LeakyReLU(0.2),\n",
    "    keras.layers.Dropout(0.3),\n",
    "    keras.layers.Conv2D(256, (5,5), (2,2), padding='same'),\n",
    "    keras.layers.LeakyReLU(0.2),\n",
    "    keras.layers.Dropout(0.3),\n",
    "    keras.layers.Conv2D(512, (5,5), (1,1), padding='same'),\n",
    "    keras.layers.LeakyReLU(0.2),\n",
    "    keras.layers.Dropout(0.3),\n",
    "    keras.layers.Flatten(),\n",
    "    keras.layers.Dense(1, activation='sigmoid')\n",
    "])"
   ]
  },
  {
   "cell_type": "code",
   "execution_count": null,
   "metadata": {
    "colab": {
     "base_uri": "https://localhost:8080/",
     "height": 34
    },
    "colab_type": "code",
    "id": "z8NRrD1WUYeb",
    "outputId": "44242809-8ece-4485-95d0-e37cc55da83a"
   },
   "outputs": [],
   "source": [
    "#disc.summary()"
   ]
  },
  {
   "cell_type": "code",
   "execution_count": null,
   "metadata": {},
   "outputs": [],
   "source": [
    "decision = disc(gen_img)\n",
    "print(decision)"
   ]
  },
  {
   "cell_type": "markdown",
   "metadata": {
    "colab_type": "text",
    "id": "gjkSFNGGVT4I"
   },
   "source": [
    "## Task 6: Compile the Deep Convolutional Generative Adversarial Network (DCGAN)"
   ]
  },
  {
   "cell_type": "code",
   "execution_count": null,
   "metadata": {
    "colab": {},
    "colab_type": "code",
    "id": "DOpPAq_ckHHz"
   },
   "outputs": [],
   "source": [
    "disc.compile(loss='binary_crossentropy', optimizer='rmsprop')\n",
    "# When we're training gen. we dont want disc to be trained at the same time!\n",
    "disc.trainable = False\n",
    "gan = keras.models.Sequential([generator, disc])\n",
    "gan.compile(loss='binary_crossentropy', optimizer='rmsprop')"
   ]
  },
  {
   "cell_type": "code",
   "execution_count": null,
   "metadata": {},
   "outputs": [],
   "source": [
    "#gan.summary()"
   ]
  },
  {
   "cell_type": "markdown",
   "metadata": {
    "colab_type": "text",
    "id": "nKJzwn3ExORM"
   },
   "source": [
    "## Task 7: Define Training Procedure"
   ]
  },
  {
   "cell_type": "code",
   "execution_count": null,
   "metadata": {
    "colab": {},
    "colab_type": "code",
    "id": "Ic76LI4xfGPD"
   },
   "outputs": [],
   "source": [
    "# Seed of random gaussian noise\n",
    "seed = tf.random.normal(shape=[bs, no_feat])"
   ]
  },
  {
   "cell_type": "code",
   "execution_count": null,
   "metadata": {
    "colab": {},
    "colab_type": "code",
    "id": "RX-t-8XmlemS"
   },
   "outputs": [],
   "source": [
    "# For each iteration of training\n",
    "# First train the disc network after that train the gen network\n",
    "# After k steps, we generate noise images and real images, passit to gen network to identify the real or fake\n",
    "# Pick a gradient step using these mini-batches of real-fake images and update the params\n",
    "def train_dcgan(gan, dataset, bs, no_feat, epochs=epochs):\n",
    "    generator, disc = gan.layers\n",
    "    for e in tqdm(range(epochs)):\n",
    "        print(f\"Epoch {e+1}/{epochs}\")\n",
    "        for xbatch in dataset:\n",
    "            noise = tf.random.normal(shape=[bs, no_feat])\n",
    "            gen_img = generator(noise)\n",
    "            # Create a DS of real-fake images to train disc on\n",
    "            xfakeNreal = tf.concat([gen_img, xbatch], axis=0)\n",
    "            ylab = tf.constant([[0.]]*bs + [[1.]]*bs)\n",
    "            disc.trainable = True\n",
    "            disc.train_on_batch(xfakeNreal, ylab)\n",
    "            # For training GAn, we'll use only Real images!!\n",
    "            ylab2 = tf.constant([[1.]]*bs)\n",
    "            disc.trainable = False\n",
    "            gan.train_on_batch(noise, ylab2)\n",
    "        display.clear_output(wait=True)\n",
    "        generate_and_save_images(generator, e+1, seed)\n",
    "    display.clear_output(wait=True)\n",
    "    generate_and_save_images(generator, epochs, seed)"
   ]
  },
  {
   "cell_type": "code",
   "execution_count": null,
   "metadata": {
    "colab": {},
    "colab_type": "code",
    "id": "NDbSHgN5gVT0"
   },
   "outputs": [],
   "source": [
    "## Source https://www.tensorflow.org/tutorials/generative/dcgan#create_a_gif\n",
    "def generate_and_save_images(model, epoch, test_input):\n",
    "    predictions = model(test_input, training=False)\n",
    "    fig = plt.figure(figsize=(10,10))\n",
    "    \n",
    "    for i in range(25):\n",
    "        plt.subplot(5, 5, i+1)\n",
    "        plt.imshow(predictions[i, :, :, 0] * 127.5 + 127.5, cmap='binary')\n",
    "        plt.axis('off')\n",
    "    plt.savefig('image_at_epoch_{:04d}.png'.format(epoch))\n",
    "    plt.show()"
   ]
  },
  {
   "cell_type": "markdown",
   "metadata": {
    "colab_type": "text",
    "id": "Ehb_zChMyMms"
   },
   "source": [
    "## Task 8: Train DCGAN"
   ]
  },
  {
   "cell_type": "code",
   "execution_count": null,
   "metadata": {
    "colab": {},
    "colab_type": "code",
    "id": "WIttFRtEkHKA"
   },
   "outputs": [],
   "source": [
    "xtrain_dcgan = xtrain.reshape(-1, 28, 28, 1)*2. -1."
   ]
  },
  {
   "cell_type": "code",
   "execution_count": null,
   "metadata": {
    "colab": {},
    "colab_type": "code",
    "id": "EK6oZ_3ekHNP"
   },
   "outputs": [],
   "source": [
    "dataset = tf.data.Dataset.from_tensor_slices(xtrain_dcgan).shuffle(1000)\n",
    "dataset = dataset.batch(bs, drop_remainder=True).prefetch(1)"
   ]
  },
  {
   "cell_type": "code",
   "execution_count": null,
   "metadata": {
    "colab": {
     "base_uri": "https://localhost:8080/",
     "height": 592
    },
    "colab_type": "code",
    "id": "r8VXDKHikHO0",
    "outputId": "e3d078a3-833e-4c8c-b303-9fa9c3e2254b",
    "scrolled": true
   },
   "outputs": [],
   "source": [
    "%%time\n",
    "train_dcgan(gan, dataset, bs, no_feat, epochs=epochs)"
   ]
  },
  {
   "cell_type": "markdown",
   "metadata": {
    "colab_type": "text",
    "id": "gToylYoE6Rw4"
   },
   "source": [
    "## Task 9: Generate Synthetic Images with DCGAN"
   ]
  },
  {
   "cell_type": "code",
   "execution_count": null,
   "metadata": {
    "colab": {
     "base_uri": "https://localhost:8080/",
     "height": 248
    },
    "colab_type": "code",
    "id": "Lbr9e1gvkHVW",
    "outputId": "e9b4269b-5a85-406f-d2d2-d71c95917a57"
   },
   "outputs": [],
   "source": [
    "noise = tf.random.normal(shape=[bs, no_feat])\n",
    "gen_img = generator(noise)\n",
    "plot_utils.show(gen_img, 10)"
   ]
  },
  {
   "cell_type": "code",
   "execution_count": null,
   "metadata": {
    "colab": {},
    "colab_type": "code",
    "id": "MLy2L7uYlA_1"
   },
   "outputs": [],
   "source": [
    "## Source: https://www.tensorflow.org/tutorials/generative/dcgan#create_a_gif\n",
    "\n",
    "import imageio\n",
    "import glob\n",
    "\n",
    "anim_file = 'dcgan.gif'\n",
    "\n",
    "with imageio.get_writer(anim_file, mode='I') as writer:\n",
    "    filenames = glob.glob('image*.png')\n",
    "    filenames = sorted(filenames)\n",
    "    last = -1\n",
    "    for i,filename in enumerate(filenames):\n",
    "        frame = 2*(i**0.5)\n",
    "        if round(frame) > round(last):\n",
    "            last = frame\n",
    "        else:\n",
    "            continue\n",
    "        image = imageio.imread(filename)\n",
    "        writer.append_data(image)\n",
    "    image = imageio.imread(filename)\n",
    "    writer.append_data(image)\n",
    "\n",
    "import IPython\n",
    "display.Image(filename=anim_file)"
   ]
  },
  {
   "cell_type": "code",
   "execution_count": null,
   "metadata": {
    "colab": {},
    "colab_type": "code",
    "id": "bS9CH6IjlBDH"
   },
   "outputs": [],
   "source": []
  }
 ],
 "metadata": {
  "accelerator": "GPU",
  "colab": {
   "collapsed_sections": [],
   "name": "DCGAN.ipynb",
   "provenance": []
  },
  "kernelspec": {
   "display_name": "Python 3",
   "language": "python",
   "name": "python3"
  },
  "language_info": {
   "codemirror_mode": {
    "name": "ipython",
    "version": 3
   },
   "file_extension": ".py",
   "mimetype": "text/x-python",
   "name": "python",
   "nbconvert_exporter": "python",
   "pygments_lexer": "ipython3",
   "version": "3.6.8"
  }
 },
 "nbformat": 4,
 "nbformat_minor": 1
}
